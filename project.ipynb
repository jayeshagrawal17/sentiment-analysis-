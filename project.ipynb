{
  "nbformat": 4,
  "nbformat_minor": 0,
  "metadata": {
    "colab": {
      "provenance": [],
      "authorship_tag": "ABX9TyNPHVV9jvQF+ouzz0YIinhN",
      "include_colab_link": true
    },
    "kernelspec": {
      "name": "python3",
      "display_name": "Python 3"
    },
    "language_info": {
      "name": "python"
    }
  },
  "cells": [
    {
      "cell_type": "markdown",
      "metadata": {
        "id": "view-in-github",
        "colab_type": "text"
      },
      "source": [
        "<a href=\"https://colab.research.google.com/github/jayeshagrawal17/sentiment-analysis-/blob/main/project.ipynb\" target=\"_parent\"><img src=\"https://colab.research.google.com/assets/colab-badge.svg\" alt=\"Open In Colab\"/></a>"
      ]
    },
    {
      "cell_type": "code",
      "source": [
        "import pandas as pd\n",
        "import nltk\n",
        "from nltk.corpus import stopwords\n",
        "from nltk.tokenize import word_tokenize\n",
        "from nltk.stem import WordNetLemmatizer\n",
        "from sklearn.feature_extraction.text import CountVectorizer\n",
        "nltk.download('wordnet')\n",
        "nltk.download('punkt')\n",
        "nltk.download('stopwords')\n",
        "from nltk.sentiment.vader import SentimentIntensityAnalyzer\n",
        "from nltk.tokenize import word_tokenize\n",
        "from collections import Counter\n",
        "import matplotlib.pyplot as plt\n",
        "nltk.download('vader_lexicon')"
      ],
      "metadata": {
        "colab": {
          "base_uri": "https://localhost:8080/"
        },
        "id": "vYyfOdMwchvY",
        "outputId": "2c9d56c2-3836-454c-d7d9-1ce07bf7dd00"
      },
      "execution_count": 14,
      "outputs": [
        {
          "output_type": "stream",
          "name": "stderr",
          "text": [
            "[nltk_data] Downloading package wordnet to /root/nltk_data...\n",
            "[nltk_data]   Package wordnet is already up-to-date!\n",
            "[nltk_data] Downloading package punkt to /root/nltk_data...\n",
            "[nltk_data]   Package punkt is already up-to-date!\n",
            "[nltk_data] Downloading package stopwords to /root/nltk_data...\n",
            "[nltk_data]   Package stopwords is already up-to-date!\n",
            "[nltk_data] Downloading package vader_lexicon to /root/nltk_data...\n"
          ]
        },
        {
          "output_type": "execute_result",
          "data": {
            "text/plain": [
              "True"
            ]
          },
          "metadata": {},
          "execution_count": 14
        }
      ]
    },
    {
      "cell_type": "code",
      "source": [
        "df = pd.read_csv('/content/customer_reviews.csv')"
      ],
      "metadata": {
        "id": "yAsbmk5DciYB"
      },
      "execution_count": 9,
      "outputs": []
    },
    {
      "cell_type": "code",
      "source": [
        "df.dropna(subset=['Review Text'], inplace=True)\n",
        "\n",
        "df['clean_text'] = df['Review Text'].str.lower()\n",
        "\n",
        "df['clean_text'] = df['clean_text'].str.replace('[^\\w\\s]', '')\n",
        "\n",
        "df['tokens'] = df['clean_text'].apply(word_tokenize)\n",
        "\n",
        "stop_words = set(stopwords.words('english'))\n",
        "df['tokens'] = df['tokens'].apply(lambda x: [word for word in x if word not in stop_words])\n",
        "\n",
        "lemmatizer = WordNetLemmatizer()\n",
        "df['tokens'] = df['tokens'].apply(lambda x: [lemmatizer.lemmatize(word) for word in x])\n",
        "\n",
        "df['clean_text'] = df['tokens'].apply(lambda x: ' '.join(x))\n",
        "\n",
        "df.drop(columns=['tokens'], inplace=True)\n",
        "\n",
        "print(df.head())"
      ],
      "metadata": {
        "colab": {
          "base_uri": "https://localhost:8080/"
        },
        "id": "cPHAi7HecpZq",
        "outputId": "d9d6e2ea-3fde-4e67-8586-ef1256735461"
      },
      "execution_count": 12,
      "outputs": [
        {
          "output_type": "stream",
          "name": "stderr",
          "text": [
            "<ipython-input-12-5305e4f21b8d>:5: FutureWarning: The default value of regex will change from True to False in a future version.\n",
            "  df['clean_text'] = df['clean_text'].str.replace('[^\\w\\s]', '')\n"
          ]
        },
        {
          "output_type": "stream",
          "name": "stdout",
          "text": [
            "   Unnamed: 0  Clothing ID  Age                    Title  \\\n",
            "0           0          767   33                      NaN   \n",
            "1           1         1080   34                      NaN   \n",
            "2           2         1077   60  Some major design flaws   \n",
            "3           3         1049   50         My favorite buy!   \n",
            "4           4          847   47         Flattering shirt   \n",
            "\n",
            "                                         Review Text  Rating  Recommended IND  \\\n",
            "0  Absolutely wonderful - silky and sexy and comf...       4                1   \n",
            "1  Love this dress!  it's sooo pretty.  i happene...       5                1   \n",
            "2  I had such high hopes for this dress and reall...       3                0   \n",
            "3  I love, love, love this jumpsuit. it's fun, fl...       5                1   \n",
            "4  This shirt is very flattering to all due to th...       5                1   \n",
            "\n",
            "   Positive Feedback Count   Division Name Department Name Class Name  \\\n",
            "0                        0       Initmates        Intimate  Intimates   \n",
            "1                        4         General         Dresses    Dresses   \n",
            "2                        0         General         Dresses    Dresses   \n",
            "3                        0  General Petite         Bottoms      Pants   \n",
            "4                        6         General            Tops    Blouses   \n",
            "\n",
            "                                          clean_text  \n",
            "0        absolutely wonderful silky sexy comfortable  \n",
            "1  love dress sooo pretty happened find store im ...  \n",
            "2  high hope dress really wanted work initially o...  \n",
            "3  love love love jumpsuit fun flirty fabulous ev...  \n",
            "4  shirt flattering due adjustable front tie perf...  \n"
          ]
        }
      ]
    },
    {
      "cell_type": "code",
      "source": [
        "sid = SentimentIntensityAnalyzer()\n",
        "\n",
        "def get_sentiment_scores(text):\n",
        "    scores = sid.polarity_scores(text)\n",
        "    return scores['compound']\n",
        "\n",
        "df['sentiment_score'] = df['clean_text'].apply(get_sentiment_scores)\n",
        "\n",
        "def classify_sentiment(score):\n",
        "    if score >= 0.05:\n",
        "        return 'positive'\n",
        "    elif score <= -0.05:\n",
        "        return 'negative'\n",
        "    else:\n",
        "        return 'neutral'\n",
        "\n",
        "df['sentiment'] = df['sentiment_score'].apply(classify_sentiment)\n",
        "\n",
        "print(df.head())\n"
      ],
      "metadata": {
        "colab": {
          "base_uri": "https://localhost:8080/"
        },
        "id": "5crXPmVlcvSt",
        "outputId": "d8d71b78-5811-4916-dd8a-4759d36106b8"
      },
      "execution_count": 15,
      "outputs": [
        {
          "output_type": "stream",
          "name": "stdout",
          "text": [
            "   Unnamed: 0  Clothing ID  Age                    Title  \\\n",
            "0           0          767   33                      NaN   \n",
            "1           1         1080   34                      NaN   \n",
            "2           2         1077   60  Some major design flaws   \n",
            "3           3         1049   50         My favorite buy!   \n",
            "4           4          847   47         Flattering shirt   \n",
            "\n",
            "                                         Review Text  Rating  Recommended IND  \\\n",
            "0  Absolutely wonderful - silky and sexy and comf...       4                1   \n",
            "1  Love this dress!  it's sooo pretty.  i happene...       5                1   \n",
            "2  I had such high hopes for this dress and reall...       3                0   \n",
            "3  I love, love, love this jumpsuit. it's fun, fl...       5                1   \n",
            "4  This shirt is very flattering to all due to th...       5                1   \n",
            "\n",
            "   Positive Feedback Count   Division Name Department Name Class Name  \\\n",
            "0                        0       Initmates        Intimate  Intimates   \n",
            "1                        4         General         Dresses    Dresses   \n",
            "2                        0         General         Dresses    Dresses   \n",
            "3                        0  General Petite         Bottoms      Pants   \n",
            "4                        6         General            Tops    Blouses   \n",
            "\n",
            "                                          clean_text  sentiment_score  \\\n",
            "0        absolutely wonderful silky sexy comfortable           0.8991   \n",
            "1  love dress sooo pretty happened find store im ...           0.9710   \n",
            "2  high hope dress really wanted work initially o...           0.9081   \n",
            "3  love love love jumpsuit fun flirty fabulous ev...           0.9437   \n",
            "4  shirt flattering due adjustable front tie perf...           0.9062   \n",
            "\n",
            "  sentiment  \n",
            "0  positive  \n",
            "1  positive  \n",
            "2  positive  \n",
            "3  positive  \n",
            "4  positive  \n"
          ]
        }
      ]
    },
    {
      "cell_type": "code",
      "source": [
        "positive_feedback = df[df['sentiment'] == 'positive']['clean_text']\n",
        "negative_feedback = df[df['sentiment'] == 'negative']['clean_text']\n",
        "\n",
        "positive_words = [word for feedback in positive_feedback for word in word_tokenize(feedback)]\n",
        "negative_words = [word for feedback in negative_feedback for word in word_tokenize(feedback)]\n",
        "\n",
        "positive_word_freq = Counter(positive_words)\n",
        "negative_word_freq = Counter(negative_words)\n",
        "\n",
        "top_positive_words = positive_word_freq.most_common(10)\n",
        "\n",
        "top_negative_words = negative_word_freq.most_common(10)\n",
        "\n",
        "print(\"Top words in positive feedback:\")\n",
        "for word, freq in top_positive_words:\n",
        "    print(f\"{word}: {freq}\")\n",
        "\n",
        "print(\"\\nTop words in negative feedback:\")\n",
        "for word, freq in top_negative_words:\n",
        "    print(f\"{word}: {freq}\")"
      ],
      "metadata": {
        "colab": {
          "base_uri": "https://localhost:8080/"
        },
        "id": "0ue-KSxhd09v",
        "outputId": "58331278-937d-4c54-9c50-12400a6341c4"
      },
      "execution_count": 16,
      "outputs": [
        {
          "output_type": "stream",
          "name": "stdout",
          "text": [
            "Top words in positive feedback:\n",
            "dress: 10904\n",
            "fit: 9912\n",
            "size: 9019\n",
            "love: 8888\n",
            "top: 8077\n",
            "like: 6793\n",
            "color: 6716\n",
            "look: 6616\n",
            "wear: 6336\n",
            "great: 6029\n",
            "\n",
            "Top words in negative feedback:\n",
            "dress: 330\n",
            "size: 236\n",
            "look: 201\n",
            "like: 185\n",
            "fabric: 172\n",
            "back: 165\n",
            "top: 158\n",
            "im: 149\n",
            "color: 149\n",
            "fit: 147\n"
          ]
        }
      ]
    },
    {
      "cell_type": "code",
      "source": [
        "top_positive_words = positive_word_freq.most_common(10)\n",
        "positive_words, positive_freq = zip(*top_positive_words)\n",
        "\n",
        "top_negative_words = negative_word_freq.most_common(10)\n",
        "negative_words, negative_freq = zip(*top_negative_words)\n",
        "\n",
        "plt.figure(figsize=(12, 6))\n",
        "\n",
        "plt.subplot(1, 2, 1)\n",
        "plt.barh(positive_words, positive_freq, color='green')\n",
        "plt.xlabel('Frequency')\n",
        "plt.title('Top Words in Positive Feedback')\n",
        "\n",
        "plt.subplot(1, 2, 2)\n",
        "plt.barh(negative_words, negative_freq, color='red')\n",
        "plt.xlabel('Frequency')\n",
        "plt.title('Top Words in Negative Feedback')\n",
        "\n",
        "plt.tight_layout()\n",
        "plt.show()\n"
      ],
      "metadata": {
        "colab": {
          "base_uri": "https://localhost:8080/",
          "height": 484
        },
        "id": "k0kKACIneMNg",
        "outputId": "3363cb91-883e-4569-f04f-e34671437cfa"
      },
      "execution_count": 17,
      "outputs": [
        {
          "output_type": "display_data",
          "data": {
            "text/plain": [
              "<Figure size 1200x600 with 2 Axes>"
            ],
            "image/png": "[encoded data removed]"
          },
          "metadata": {}
        }
      ]
    }
  ]
}